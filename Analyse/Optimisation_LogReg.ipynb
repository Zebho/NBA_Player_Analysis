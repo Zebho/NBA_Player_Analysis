{
 "cells": [
  {
   "cell_type": "markdown",
   "metadata": {},
   "source": [
    "# Interview Case - MP Data"
   ]
  },
  {
   "cell_type": "markdown",
   "metadata": {},
   "source": [
    "Objectif : Fournir un classifier permettant de prédire qu’un joueur vaut le coup \n",
    "d’investir sur lui car il va durer plus de 5 ans en NBA \n",
    "en s’appuyant sur ses statistiques sportives."
   ]
  },
  {
   "cell_type": "markdown",
   "metadata": {},
   "source": [
    "## Explication Projet Global"
   ]
  },
  {
   "cell_type": "markdown",
   "metadata": {},
   "source": [
    "1) Tout d'abord, j'ai effectué une recherche pour trouver le meilleur modèle dans notre cas.\n",
    "2) Après avoir trouvé, j'ai cherché à l'améliorer et à modifier son seuil, pour en maximiser la précision.\n",
    "3) J'ai ensuite crée une image Docker de l'ensemble afin de l'utiliser sous la forme d'une API, mis à disposition sur GCPlateform\n",
    "4) Enfin, j'ai mis en place un Streamlit simple permettant de requeter l'API et d'afficher si les statistiques du joueur entrées par l'utilisateur peuvent permettre de miser sur lui ou non."
   ]
  },
  {
   "cell_type": "markdown",
   "metadata": {},
   "source": [
    "## Explication Choix"
   ]
  },
  {
   "cell_type": "markdown",
   "metadata": {},
   "source": [
    "- Choix Precision    \n",
    "J'ai décidé de choisir la précision, car pour moi il est intéressant de miser avec \"précision\" sur les joueurs, c'est à dire d'être sur qu'en misant sur un joueur,   \n",
    "il jouera pendant au moins 5 ans, et a contrario de \"rater\" des pépites qui jouerait encore dans 5 ans. J'ai pris le parti qu'un club préfère être sur de ses recrues, quitte a en rater des bonnes, plutôt que d'en faire entrer plus et d'avoir des déceptions.\n",
    "\n",
    "\n",
    "- Choix Modèle :\n",
    "Après Grid Search, et optimsation des modèles, on remarque que dans l'état actuel, le plus intéresant est le modèle de Logistique Regression."
   ]
  },
  {
   "cell_type": "markdown",
   "metadata": {},
   "source": [
    "* Objectif :    \n",
    "Trouver le seuil de la Logistique Regression minimale afin que le selectionneur de NBA puisse connaitre à 90% de precision près, si un joueur qu'il sélectionne sera encore là dans 5 ans ou non."
   ]
  },
  {
   "cell_type": "markdown",
   "metadata": {},
   "source": [
    "## Importations"
   ]
  },
  {
   "cell_type": "code",
   "execution_count": 3,
   "metadata": {},
   "outputs": [],
   "source": [
    "%load_ext autoreload\n",
    "%matplotlib inline\n",
    "\n",
    "#%run <file name>\n",
    "#%who"
   ]
  },
  {
   "cell_type": "code",
   "execution_count": 4,
   "metadata": {},
   "outputs": [],
   "source": [
    "#General\n",
    "import pandas as pd\n",
    "import matplotlib.pyplot as plt\n",
    "import seaborn as sns\n",
    "import numpy as np\n",
    "\n",
    "#SkLearn\n",
    "#Scalers\n",
    "from sklearn.preprocessing import MinMaxScaler, RobustScaler\n",
    "#Models\n",
    "from sklearn.linear_model import LogisticRegression\n",
    "\n",
    "#Autre\n",
    "from sklearn.model_selection import train_test_split,cross_validate\n",
    "from test_precision import score_classifier_precision,score_classifier_precision_90\n",
    "from sklearn.model_selection import cross_val_predict\n",
    "from sklearn.metrics import precision_recall_curve"
   ]
  },
  {
   "cell_type": "markdown",
   "metadata": {},
   "source": [
    "## Test Basic test.py"
   ]
  },
  {
   "cell_type": "code",
   "execution_count": 5,
   "metadata": {},
   "outputs": [
    {
     "name": "stdout",
     "output_type": "stream",
     "text": [
      "[[271. 238.]\n",
      " [145. 686.]]\n",
      "Recall= 0.82551959002102\n"
     ]
    }
   ],
   "source": [
    "%run test.py"
   ]
  },
  {
   "cell_type": "code",
   "execution_count": 6,
   "metadata": {},
   "outputs": [
    {
     "name": "stdout",
     "output_type": "stream",
     "text": [
      "[[271. 238.]\n",
      " [145. 686.]]\n",
      "Precision= 0.7426951153127018\n"
     ]
    }
   ],
   "source": [
    "%run test_precision.py"
   ]
  },
  {
   "cell_type": "markdown",
   "metadata": {},
   "source": [
    "## Analyse Data"
   ]
  },
  {
   "cell_type": "markdown",
   "metadata": {},
   "source": [
    "### Première Analyse/Pre-PreProc"
   ]
  },
  {
   "cell_type": "code",
   "execution_count": 7,
   "metadata": {},
   "outputs": [
    {
     "data": {
      "text/html": [
       "<div>\n",
       "<style scoped>\n",
       "    .dataframe tbody tr th:only-of-type {\n",
       "        vertical-align: middle;\n",
       "    }\n",
       "\n",
       "    .dataframe tbody tr th {\n",
       "        vertical-align: top;\n",
       "    }\n",
       "\n",
       "    .dataframe thead th {\n",
       "        text-align: right;\n",
       "    }\n",
       "</style>\n",
       "<table border=\"1\" class=\"dataframe\">\n",
       "  <thead>\n",
       "    <tr style=\"text-align: right;\">\n",
       "      <th></th>\n",
       "      <th>Name</th>\n",
       "      <th>GP</th>\n",
       "      <th>MIN</th>\n",
       "      <th>PTS</th>\n",
       "      <th>FGM</th>\n",
       "      <th>FGA</th>\n",
       "      <th>FG%</th>\n",
       "      <th>3P Made</th>\n",
       "      <th>3PA</th>\n",
       "      <th>3P%</th>\n",
       "      <th>...</th>\n",
       "      <th>FTA</th>\n",
       "      <th>FT%</th>\n",
       "      <th>OREB</th>\n",
       "      <th>DREB</th>\n",
       "      <th>REB</th>\n",
       "      <th>AST</th>\n",
       "      <th>STL</th>\n",
       "      <th>BLK</th>\n",
       "      <th>TOV</th>\n",
       "      <th>TARGET_5Yrs</th>\n",
       "    </tr>\n",
       "  </thead>\n",
       "  <tbody>\n",
       "    <tr>\n",
       "      <th>0</th>\n",
       "      <td>Brandon Ingram</td>\n",
       "      <td>36</td>\n",
       "      <td>27.4</td>\n",
       "      <td>7.4</td>\n",
       "      <td>2.6</td>\n",
       "      <td>7.6</td>\n",
       "      <td>34.7</td>\n",
       "      <td>0.5</td>\n",
       "      <td>2.1</td>\n",
       "      <td>25.0</td>\n",
       "      <td>...</td>\n",
       "      <td>2.3</td>\n",
       "      <td>69.9</td>\n",
       "      <td>0.7</td>\n",
       "      <td>3.4</td>\n",
       "      <td>4.1</td>\n",
       "      <td>1.9</td>\n",
       "      <td>0.4</td>\n",
       "      <td>0.4</td>\n",
       "      <td>1.3</td>\n",
       "      <td>0.0</td>\n",
       "    </tr>\n",
       "    <tr>\n",
       "      <th>1</th>\n",
       "      <td>Andrew Harrison</td>\n",
       "      <td>35</td>\n",
       "      <td>26.9</td>\n",
       "      <td>7.2</td>\n",
       "      <td>2.0</td>\n",
       "      <td>6.7</td>\n",
       "      <td>29.6</td>\n",
       "      <td>0.7</td>\n",
       "      <td>2.8</td>\n",
       "      <td>23.5</td>\n",
       "      <td>...</td>\n",
       "      <td>3.4</td>\n",
       "      <td>76.5</td>\n",
       "      <td>0.5</td>\n",
       "      <td>2.0</td>\n",
       "      <td>2.4</td>\n",
       "      <td>3.7</td>\n",
       "      <td>1.1</td>\n",
       "      <td>0.5</td>\n",
       "      <td>1.6</td>\n",
       "      <td>0.0</td>\n",
       "    </tr>\n",
       "    <tr>\n",
       "      <th>2</th>\n",
       "      <td>JaKarr Sampson</td>\n",
       "      <td>74</td>\n",
       "      <td>15.3</td>\n",
       "      <td>5.2</td>\n",
       "      <td>2.0</td>\n",
       "      <td>4.7</td>\n",
       "      <td>42.2</td>\n",
       "      <td>0.4</td>\n",
       "      <td>1.7</td>\n",
       "      <td>24.4</td>\n",
       "      <td>...</td>\n",
       "      <td>1.3</td>\n",
       "      <td>67.0</td>\n",
       "      <td>0.5</td>\n",
       "      <td>1.7</td>\n",
       "      <td>2.2</td>\n",
       "      <td>1.0</td>\n",
       "      <td>0.5</td>\n",
       "      <td>0.3</td>\n",
       "      <td>1.0</td>\n",
       "      <td>0.0</td>\n",
       "    </tr>\n",
       "    <tr>\n",
       "      <th>3</th>\n",
       "      <td>Malik Sealy</td>\n",
       "      <td>58</td>\n",
       "      <td>11.6</td>\n",
       "      <td>5.7</td>\n",
       "      <td>2.3</td>\n",
       "      <td>5.5</td>\n",
       "      <td>42.6</td>\n",
       "      <td>0.1</td>\n",
       "      <td>0.5</td>\n",
       "      <td>22.6</td>\n",
       "      <td>...</td>\n",
       "      <td>1.3</td>\n",
       "      <td>68.9</td>\n",
       "      <td>1.0</td>\n",
       "      <td>0.9</td>\n",
       "      <td>1.9</td>\n",
       "      <td>0.8</td>\n",
       "      <td>0.6</td>\n",
       "      <td>0.1</td>\n",
       "      <td>1.0</td>\n",
       "      <td>1.0</td>\n",
       "    </tr>\n",
       "    <tr>\n",
       "      <th>4</th>\n",
       "      <td>Matt Geiger</td>\n",
       "      <td>48</td>\n",
       "      <td>11.5</td>\n",
       "      <td>4.5</td>\n",
       "      <td>1.6</td>\n",
       "      <td>3.0</td>\n",
       "      <td>52.4</td>\n",
       "      <td>0.0</td>\n",
       "      <td>0.1</td>\n",
       "      <td>0.0</td>\n",
       "      <td>...</td>\n",
       "      <td>1.9</td>\n",
       "      <td>67.4</td>\n",
       "      <td>1.0</td>\n",
       "      <td>1.5</td>\n",
       "      <td>2.5</td>\n",
       "      <td>0.3</td>\n",
       "      <td>0.3</td>\n",
       "      <td>0.4</td>\n",
       "      <td>0.8</td>\n",
       "      <td>1.0</td>\n",
       "    </tr>\n",
       "  </tbody>\n",
       "</table>\n",
       "<p>5 rows × 21 columns</p>\n",
       "</div>"
      ],
      "text/plain": [
       "              Name  GP   MIN  PTS  FGM  FGA   FG%  3P Made  3PA   3P%  ...  \\\n",
       "0   Brandon Ingram  36  27.4  7.4  2.6  7.6  34.7      0.5  2.1  25.0  ...   \n",
       "1  Andrew Harrison  35  26.9  7.2  2.0  6.7  29.6      0.7  2.8  23.5  ...   \n",
       "2   JaKarr Sampson  74  15.3  5.2  2.0  4.7  42.2      0.4  1.7  24.4  ...   \n",
       "3      Malik Sealy  58  11.6  5.7  2.3  5.5  42.6      0.1  0.5  22.6  ...   \n",
       "4      Matt Geiger  48  11.5  4.5  1.6  3.0  52.4      0.0  0.1   0.0  ...   \n",
       "\n",
       "   FTA   FT%  OREB  DREB  REB  AST  STL  BLK  TOV  TARGET_5Yrs  \n",
       "0  2.3  69.9   0.7   3.4  4.1  1.9  0.4  0.4  1.3          0.0  \n",
       "1  3.4  76.5   0.5   2.0  2.4  3.7  1.1  0.5  1.6          0.0  \n",
       "2  1.3  67.0   0.5   1.7  2.2  1.0  0.5  0.3  1.0          0.0  \n",
       "3  1.3  68.9   1.0   0.9  1.9  0.8  0.6  0.1  1.0          1.0  \n",
       "4  1.9  67.4   1.0   1.5  2.5  0.3  0.3  0.4  0.8          1.0  \n",
       "\n",
       "[5 rows x 21 columns]"
      ]
     },
     "execution_count": 7,
     "metadata": {},
     "output_type": "execute_result"
    }
   ],
   "source": [
    "#On récupère le fichier csv des données\n",
    "data = pd.read_csv(\"data/nba_logreg.csv\")\n",
    "data.head()"
   ]
  },
  {
   "cell_type": "code",
   "execution_count": 8,
   "metadata": {},
   "outputs": [
    {
     "name": "stdout",
     "output_type": "stream",
     "text": [
      "12 duplicates avant drop_dupli\n",
      "0 duplicates après drop_dupli\n"
     ]
    }
   ],
   "source": [
    "#On regarde les duplictes et on les supprime\n",
    "print(data.duplicated().sum(),\"duplicates avant drop_dupli\")\n",
    "data = data.drop_duplicates()\n",
    "print(data.duplicated().sum(),\"duplicates après drop_dupli\")"
   ]
  },
  {
   "cell_type": "code",
   "execution_count": 9,
   "metadata": {},
   "outputs": [],
   "source": [
    "#On reset index après suppression des duplicates\n",
    "data.reset_index(drop=True,inplace=True)"
   ]
  },
  {
   "cell_type": "code",
   "execution_count": 10,
   "metadata": {},
   "outputs": [
    {
     "data": {
      "text/plain": [
       "1.0    0.620482\n",
       "0.0    0.379518\n",
       "Name: TARGET_5Yrs, dtype: float64"
      ]
     },
     "execution_count": 10,
     "metadata": {},
     "output_type": "execute_result"
    }
   ],
   "source": [
    "# Après analyse, le fait de modifier le dataset influence négativement les métrics\n",
    "# On garde donc le dataset initial\n",
    "data.TARGET_5Yrs.value_counts(normalize=True)"
   ]
  },
  {
   "cell_type": "code",
   "execution_count": 11,
   "metadata": {},
   "outputs": [],
   "source": [
    "## Manière pour équilibrer le dataset 50/50 si besoin\n",
    "# data_0 = data[data['TARGET_5Yrs']==0]\n",
    "# data_1 = data[data['TARGET_5Yrs']==1].sample(504)\n",
    "# data = pd.concat([data_0,data_1],axis=0).sample(frac=1)\n",
    "# data"
   ]
  },
  {
   "cell_type": "markdown",
   "metadata": {},
   "source": [
    "On récupère la colonne de \"Name\" qui n'est pas intéressante pour notre analyse"
   ]
  },
  {
   "cell_type": "code",
   "execution_count": 12,
   "metadata": {},
   "outputs": [
    {
     "data": {
      "text/plain": [
       "Name    0\n",
       "dtype: int64"
      ]
     },
     "execution_count": 12,
     "metadata": {},
     "output_type": "execute_result"
    }
   ],
   "source": [
    "names = data[['Name']] # players names\n",
    "names.isna().sum() # Pas de Nan dans les noms"
   ]
  },
  {
   "cell_type": "code",
   "execution_count": 13,
   "metadata": {},
   "outputs": [],
   "source": [
    "#On récupère la donnée\n",
    "X = data.drop(columns=['TARGET_5Yrs','Name'])"
   ]
  },
  {
   "cell_type": "code",
   "execution_count": 14,
   "metadata": {},
   "outputs": [
    {
     "data": {
      "text/plain": [
       "GP         0\n",
       "MIN        0\n",
       "PTS        0\n",
       "FGM        0\n",
       "FGA        0\n",
       "FG%        0\n",
       "3P Made    0\n",
       "3PA        0\n",
       "3P%        0\n",
       "FTM        0\n",
       "FTA        0\n",
       "FT%        0\n",
       "OREB       0\n",
       "DREB       0\n",
       "REB        0\n",
       "AST        0\n",
       "STL        0\n",
       "BLK        0\n",
       "TOV        0\n",
       "dtype: int64"
      ]
     },
     "execution_count": 14,
     "metadata": {},
     "output_type": "execute_result"
    }
   ],
   "source": [
    "#On a remplacé les nan de joueurs sans 3P réussis par 0\n",
    "X[['3P%']] = X[['3P%']].fillna(0.0)\n",
    "X.isna().sum()"
   ]
  },
  {
   "cell_type": "code",
   "execution_count": 15,
   "metadata": {},
   "outputs": [],
   "source": [
    "#On récupère la target\n",
    "y = data.TARGET_5Yrs.astype(int) # labels"
   ]
  },
  {
   "cell_type": "markdown",
   "metadata": {},
   "source": [
    "### Scaling"
   ]
  },
  {
   "cell_type": "code",
   "execution_count": 16,
   "metadata": {},
   "outputs": [
    {
     "data": {
      "text/html": [
       "<div>\n",
       "<style scoped>\n",
       "    .dataframe tbody tr th:only-of-type {\n",
       "        vertical-align: middle;\n",
       "    }\n",
       "\n",
       "    .dataframe tbody tr th {\n",
       "        vertical-align: top;\n",
       "    }\n",
       "\n",
       "    .dataframe thead th {\n",
       "        text-align: right;\n",
       "    }\n",
       "</style>\n",
       "<table border=\"1\" class=\"dataframe\">\n",
       "  <thead>\n",
       "    <tr style=\"text-align: right;\">\n",
       "      <th></th>\n",
       "      <th>GP</th>\n",
       "      <th>MIN</th>\n",
       "      <th>PTS</th>\n",
       "      <th>FGM</th>\n",
       "      <th>FGA</th>\n",
       "      <th>FG%</th>\n",
       "      <th>3P Made</th>\n",
       "      <th>3PA</th>\n",
       "      <th>3P%</th>\n",
       "      <th>FTM</th>\n",
       "      <th>FTA</th>\n",
       "      <th>FT%</th>\n",
       "      <th>OREB</th>\n",
       "      <th>DREB</th>\n",
       "      <th>REB</th>\n",
       "      <th>AST</th>\n",
       "      <th>STL</th>\n",
       "      <th>BLK</th>\n",
       "      <th>TOV</th>\n",
       "    </tr>\n",
       "  </thead>\n",
       "  <tbody>\n",
       "    <tr>\n",
       "      <th>0</th>\n",
       "      <td>0.352113</td>\n",
       "      <td>0.642857</td>\n",
       "      <td>0.243636</td>\n",
       "      <td>0.232323</td>\n",
       "      <td>0.357895</td>\n",
       "      <td>0.218437</td>\n",
       "      <td>0.217391</td>\n",
       "      <td>0.323077</td>\n",
       "      <td>0.250</td>\n",
       "      <td>0.207792</td>\n",
       "      <td>0.225490</td>\n",
       "      <td>0.699</td>\n",
       "      <td>0.132075</td>\n",
       "      <td>0.340426</td>\n",
       "      <td>0.279412</td>\n",
       "      <td>0.179245</td>\n",
       "      <td>0.16</td>\n",
       "      <td>0.102564</td>\n",
       "      <td>0.279070</td>\n",
       "    </tr>\n",
       "    <tr>\n",
       "      <th>1</th>\n",
       "      <td>0.338028</td>\n",
       "      <td>0.629630</td>\n",
       "      <td>0.236364</td>\n",
       "      <td>0.171717</td>\n",
       "      <td>0.310526</td>\n",
       "      <td>0.116232</td>\n",
       "      <td>0.304348</td>\n",
       "      <td>0.430769</td>\n",
       "      <td>0.235</td>\n",
       "      <td>0.337662</td>\n",
       "      <td>0.333333</td>\n",
       "      <td>0.765</td>\n",
       "      <td>0.094340</td>\n",
       "      <td>0.191489</td>\n",
       "      <td>0.154412</td>\n",
       "      <td>0.349057</td>\n",
       "      <td>0.44</td>\n",
       "      <td>0.128205</td>\n",
       "      <td>0.348837</td>\n",
       "    </tr>\n",
       "    <tr>\n",
       "      <th>2</th>\n",
       "      <td>0.887324</td>\n",
       "      <td>0.322751</td>\n",
       "      <td>0.163636</td>\n",
       "      <td>0.171717</td>\n",
       "      <td>0.205263</td>\n",
       "      <td>0.368737</td>\n",
       "      <td>0.173913</td>\n",
       "      <td>0.261538</td>\n",
       "      <td>0.244</td>\n",
       "      <td>0.116883</td>\n",
       "      <td>0.127451</td>\n",
       "      <td>0.670</td>\n",
       "      <td>0.094340</td>\n",
       "      <td>0.159574</td>\n",
       "      <td>0.139706</td>\n",
       "      <td>0.094340</td>\n",
       "      <td>0.20</td>\n",
       "      <td>0.076923</td>\n",
       "      <td>0.209302</td>\n",
       "    </tr>\n",
       "    <tr>\n",
       "      <th>3</th>\n",
       "      <td>0.661972</td>\n",
       "      <td>0.224868</td>\n",
       "      <td>0.181818</td>\n",
       "      <td>0.202020</td>\n",
       "      <td>0.247368</td>\n",
       "      <td>0.376754</td>\n",
       "      <td>0.043478</td>\n",
       "      <td>0.076923</td>\n",
       "      <td>0.226</td>\n",
       "      <td>0.116883</td>\n",
       "      <td>0.127451</td>\n",
       "      <td>0.689</td>\n",
       "      <td>0.188679</td>\n",
       "      <td>0.074468</td>\n",
       "      <td>0.117647</td>\n",
       "      <td>0.075472</td>\n",
       "      <td>0.24</td>\n",
       "      <td>0.025641</td>\n",
       "      <td>0.209302</td>\n",
       "    </tr>\n",
       "    <tr>\n",
       "      <th>4</th>\n",
       "      <td>0.521127</td>\n",
       "      <td>0.222222</td>\n",
       "      <td>0.138182</td>\n",
       "      <td>0.131313</td>\n",
       "      <td>0.115789</td>\n",
       "      <td>0.573146</td>\n",
       "      <td>0.000000</td>\n",
       "      <td>0.015385</td>\n",
       "      <td>0.000</td>\n",
       "      <td>0.168831</td>\n",
       "      <td>0.186275</td>\n",
       "      <td>0.674</td>\n",
       "      <td>0.188679</td>\n",
       "      <td>0.138298</td>\n",
       "      <td>0.161765</td>\n",
       "      <td>0.028302</td>\n",
       "      <td>0.12</td>\n",
       "      <td>0.102564</td>\n",
       "      <td>0.162791</td>\n",
       "    </tr>\n",
       "    <tr>\n",
       "      <th>...</th>\n",
       "      <td>...</td>\n",
       "      <td>...</td>\n",
       "      <td>...</td>\n",
       "      <td>...</td>\n",
       "      <td>...</td>\n",
       "      <td>...</td>\n",
       "      <td>...</td>\n",
       "      <td>...</td>\n",
       "      <td>...</td>\n",
       "      <td>...</td>\n",
       "      <td>...</td>\n",
       "      <td>...</td>\n",
       "      <td>...</td>\n",
       "      <td>...</td>\n",
       "      <td>...</td>\n",
       "      <td>...</td>\n",
       "      <td>...</td>\n",
       "      <td>...</td>\n",
       "      <td>...</td>\n",
       "    </tr>\n",
       "    <tr>\n",
       "      <th>1323</th>\n",
       "      <td>0.971831</td>\n",
       "      <td>0.335979</td>\n",
       "      <td>0.130909</td>\n",
       "      <td>0.131313</td>\n",
       "      <td>0.147368</td>\n",
       "      <td>0.390782</td>\n",
       "      <td>0.000000</td>\n",
       "      <td>0.030769</td>\n",
       "      <td>0.143</td>\n",
       "      <td>0.155844</td>\n",
       "      <td>0.147059</td>\n",
       "      <td>0.792</td>\n",
       "      <td>0.075472</td>\n",
       "      <td>0.063830</td>\n",
       "      <td>0.066176</td>\n",
       "      <td>0.235849</td>\n",
       "      <td>0.24</td>\n",
       "      <td>0.051282</td>\n",
       "      <td>0.162791</td>\n",
       "    </tr>\n",
       "    <tr>\n",
       "      <th>1324</th>\n",
       "      <td>0.802817</td>\n",
       "      <td>0.251323</td>\n",
       "      <td>0.116364</td>\n",
       "      <td>0.121212</td>\n",
       "      <td>0.173684</td>\n",
       "      <td>0.240481</td>\n",
       "      <td>0.043478</td>\n",
       "      <td>0.107692</td>\n",
       "      <td>0.167</td>\n",
       "      <td>0.103896</td>\n",
       "      <td>0.098039</td>\n",
       "      <td>0.794</td>\n",
       "      <td>0.075472</td>\n",
       "      <td>0.095745</td>\n",
       "      <td>0.088235</td>\n",
       "      <td>0.216981</td>\n",
       "      <td>0.32</td>\n",
       "      <td>0.000000</td>\n",
       "      <td>0.279070</td>\n",
       "    </tr>\n",
       "    <tr>\n",
       "      <th>1325</th>\n",
       "      <td>0.450704</td>\n",
       "      <td>0.238095</td>\n",
       "      <td>0.170909</td>\n",
       "      <td>0.191919</td>\n",
       "      <td>0.163158</td>\n",
       "      <td>0.625251</td>\n",
       "      <td>0.000000</td>\n",
       "      <td>0.000000</td>\n",
       "      <td>0.000</td>\n",
       "      <td>0.129870</td>\n",
       "      <td>0.156863</td>\n",
       "      <td>0.643</td>\n",
       "      <td>0.283019</td>\n",
       "      <td>0.223404</td>\n",
       "      <td>0.257353</td>\n",
       "      <td>0.028302</td>\n",
       "      <td>0.12</td>\n",
       "      <td>0.102564</td>\n",
       "      <td>0.186047</td>\n",
       "    </tr>\n",
       "    <tr>\n",
       "      <th>1326</th>\n",
       "      <td>0.577465</td>\n",
       "      <td>0.235450</td>\n",
       "      <td>0.138182</td>\n",
       "      <td>0.141414</td>\n",
       "      <td>0.157895</td>\n",
       "      <td>0.402806</td>\n",
       "      <td>0.000000</td>\n",
       "      <td>0.030769</td>\n",
       "      <td>0.100</td>\n",
       "      <td>0.155844</td>\n",
       "      <td>0.176471</td>\n",
       "      <td>0.625</td>\n",
       "      <td>0.037736</td>\n",
       "      <td>0.021277</td>\n",
       "      <td>0.029412</td>\n",
       "      <td>0.207547</td>\n",
       "      <td>0.16</td>\n",
       "      <td>0.025641</td>\n",
       "      <td>0.162791</td>\n",
       "    </tr>\n",
       "    <tr>\n",
       "      <th>1327</th>\n",
       "      <td>0.507042</td>\n",
       "      <td>0.227513</td>\n",
       "      <td>0.134545</td>\n",
       "      <td>0.131313</td>\n",
       "      <td>0.189474</td>\n",
       "      <td>0.262525</td>\n",
       "      <td>0.173913</td>\n",
       "      <td>0.200000</td>\n",
       "      <td>0.333</td>\n",
       "      <td>0.090909</td>\n",
       "      <td>0.098039</td>\n",
       "      <td>0.673</td>\n",
       "      <td>0.037736</td>\n",
       "      <td>0.053191</td>\n",
       "      <td>0.044118</td>\n",
       "      <td>0.132075</td>\n",
       "      <td>0.28</td>\n",
       "      <td>0.025641</td>\n",
       "      <td>0.186047</td>\n",
       "    </tr>\n",
       "  </tbody>\n",
       "</table>\n",
       "<p>1328 rows × 19 columns</p>\n",
       "</div>"
      ],
      "text/plain": [
       "            GP       MIN       PTS       FGM       FGA       FG%   3P Made  \\\n",
       "0     0.352113  0.642857  0.243636  0.232323  0.357895  0.218437  0.217391   \n",
       "1     0.338028  0.629630  0.236364  0.171717  0.310526  0.116232  0.304348   \n",
       "2     0.887324  0.322751  0.163636  0.171717  0.205263  0.368737  0.173913   \n",
       "3     0.661972  0.224868  0.181818  0.202020  0.247368  0.376754  0.043478   \n",
       "4     0.521127  0.222222  0.138182  0.131313  0.115789  0.573146  0.000000   \n",
       "...        ...       ...       ...       ...       ...       ...       ...   \n",
       "1323  0.971831  0.335979  0.130909  0.131313  0.147368  0.390782  0.000000   \n",
       "1324  0.802817  0.251323  0.116364  0.121212  0.173684  0.240481  0.043478   \n",
       "1325  0.450704  0.238095  0.170909  0.191919  0.163158  0.625251  0.000000   \n",
       "1326  0.577465  0.235450  0.138182  0.141414  0.157895  0.402806  0.000000   \n",
       "1327  0.507042  0.227513  0.134545  0.131313  0.189474  0.262525  0.173913   \n",
       "\n",
       "           3PA    3P%       FTM       FTA    FT%      OREB      DREB  \\\n",
       "0     0.323077  0.250  0.207792  0.225490  0.699  0.132075  0.340426   \n",
       "1     0.430769  0.235  0.337662  0.333333  0.765  0.094340  0.191489   \n",
       "2     0.261538  0.244  0.116883  0.127451  0.670  0.094340  0.159574   \n",
       "3     0.076923  0.226  0.116883  0.127451  0.689  0.188679  0.074468   \n",
       "4     0.015385  0.000  0.168831  0.186275  0.674  0.188679  0.138298   \n",
       "...        ...    ...       ...       ...    ...       ...       ...   \n",
       "1323  0.030769  0.143  0.155844  0.147059  0.792  0.075472  0.063830   \n",
       "1324  0.107692  0.167  0.103896  0.098039  0.794  0.075472  0.095745   \n",
       "1325  0.000000  0.000  0.129870  0.156863  0.643  0.283019  0.223404   \n",
       "1326  0.030769  0.100  0.155844  0.176471  0.625  0.037736  0.021277   \n",
       "1327  0.200000  0.333  0.090909  0.098039  0.673  0.037736  0.053191   \n",
       "\n",
       "           REB       AST   STL       BLK       TOV  \n",
       "0     0.279412  0.179245  0.16  0.102564  0.279070  \n",
       "1     0.154412  0.349057  0.44  0.128205  0.348837  \n",
       "2     0.139706  0.094340  0.20  0.076923  0.209302  \n",
       "3     0.117647  0.075472  0.24  0.025641  0.209302  \n",
       "4     0.161765  0.028302  0.12  0.102564  0.162791  \n",
       "...        ...       ...   ...       ...       ...  \n",
       "1323  0.066176  0.235849  0.24  0.051282  0.162791  \n",
       "1324  0.088235  0.216981  0.32  0.000000  0.279070  \n",
       "1325  0.257353  0.028302  0.12  0.102564  0.186047  \n",
       "1326  0.029412  0.207547  0.16  0.025641  0.162791  \n",
       "1327  0.044118  0.132075  0.28  0.025641  0.186047  \n",
       "\n",
       "[1328 rows x 19 columns]"
      ]
     },
     "execution_count": 16,
     "metadata": {},
     "output_type": "execute_result"
    }
   ],
   "source": [
    "#On utilise un MinMax Scaler\n",
    "rb_scaler = MinMaxScaler()\n",
    "np_scaled = rb_scaler.fit_transform(X)\n",
    "X_scaled = pd.DataFrame(np_scaled, columns=X.columns)\n",
    "X_scaled"
   ]
  },
  {
   "cell_type": "markdown",
   "metadata": {},
   "source": [
    "## Mise en place du Modèle LogRegression"
   ]
  },
  {
   "cell_type": "markdown",
   "metadata": {},
   "source": [
    "### Test pour connaitre ses metrics"
   ]
  },
  {
   "cell_type": "code",
   "execution_count": 17,
   "metadata": {},
   "outputs": [
    {
     "name": "stdout",
     "output_type": "stream",
     "text": [
      "Accuracy= 0.7085657540076606\n",
      "Precision= 0.7403296230283133\n",
      "Recall= 0.8179379157427938\n",
      "F1= 0.7766206592323581\n"
     ]
    }
   ],
   "source": [
    "LogReg_classi = LogisticRegression(max_iter=1000)\n",
    "cv_result = cross_validate(LogReg_classi,X_scaled,y,cv=5,scoring=['accuracy','precision','recall','f1'])\n",
    "\n",
    "print(\"Accuracy=\",cv_result['test_accuracy'].mean())\n",
    "print(\"Precision=\",cv_result['test_precision'].mean())\n",
    "print(\"Recall=\",cv_result['test_recall'].mean())\n",
    "print(\"F1=\",cv_result['test_f1'].mean())"
   ]
  },
  {
   "cell_type": "code",
   "execution_count": 18,
   "metadata": {},
   "outputs": [
    {
     "name": "stdout",
     "output_type": "stream",
     "text": [
      "[[264. 240.]\n",
      " [142. 682.]]\n",
      "Precision= 0.7392574577642866\n"
     ]
    },
    {
     "data": {
      "text/plain": [
       "0.7392574577642866"
      ]
     },
     "execution_count": 18,
     "metadata": {},
     "output_type": "execute_result"
    }
   ],
   "source": [
    "score_classifier_precision(X_scaled.values,LogReg_classi,y.values,True)"
   ]
  },
  {
   "cell_type": "markdown",
   "metadata": {},
   "source": [
    "La précision est ici trop faible, on souhaite l'augmenter à un niveau de 90% !"
   ]
  },
  {
   "cell_type": "markdown",
   "metadata": {},
   "source": [
    "### Recherche du seuil pour avoir une précision de 90%"
   ]
  },
  {
   "cell_type": "code",
   "execution_count": 19,
   "metadata": {},
   "outputs": [
    {
     "data": {
      "text/html": [
       "<div>\n",
       "<style scoped>\n",
       "    .dataframe tbody tr th:only-of-type {\n",
       "        vertical-align: middle;\n",
       "    }\n",
       "\n",
       "    .dataframe tbody tr th {\n",
       "        vertical-align: top;\n",
       "    }\n",
       "\n",
       "    .dataframe thead th {\n",
       "        text-align: right;\n",
       "    }\n",
       "</style>\n",
       "<table border=\"1\" class=\"dataframe\">\n",
       "  <thead>\n",
       "    <tr style=\"text-align: right;\">\n",
       "      <th></th>\n",
       "      <th>precision</th>\n",
       "      <th>threshold</th>\n",
       "    </tr>\n",
       "  </thead>\n",
       "  <tbody>\n",
       "    <tr>\n",
       "      <th>0</th>\n",
       "      <td>0.620482</td>\n",
       "      <td>0.057969</td>\n",
       "    </tr>\n",
       "    <tr>\n",
       "      <th>1</th>\n",
       "      <td>0.620950</td>\n",
       "      <td>0.125969</td>\n",
       "    </tr>\n",
       "    <tr>\n",
       "      <th>2</th>\n",
       "      <td>0.621418</td>\n",
       "      <td>0.126084</td>\n",
       "    </tr>\n",
       "    <tr>\n",
       "      <th>3</th>\n",
       "      <td>0.621132</td>\n",
       "      <td>0.129832</td>\n",
       "    </tr>\n",
       "    <tr>\n",
       "      <th>4</th>\n",
       "      <td>0.621601</td>\n",
       "      <td>0.129902</td>\n",
       "    </tr>\n",
       "    <tr>\n",
       "      <th>...</th>\n",
       "      <td>...</td>\n",
       "      <td>...</td>\n",
       "    </tr>\n",
       "    <tr>\n",
       "      <th>1305</th>\n",
       "      <td>0.833333</td>\n",
       "      <td>0.971098</td>\n",
       "    </tr>\n",
       "    <tr>\n",
       "      <th>1306</th>\n",
       "      <td>0.800000</td>\n",
       "      <td>0.975302</td>\n",
       "    </tr>\n",
       "    <tr>\n",
       "      <th>1307</th>\n",
       "      <td>0.750000</td>\n",
       "      <td>0.978125</td>\n",
       "    </tr>\n",
       "    <tr>\n",
       "      <th>1308</th>\n",
       "      <td>1.000000</td>\n",
       "      <td>0.985420</td>\n",
       "    </tr>\n",
       "    <tr>\n",
       "      <th>1309</th>\n",
       "      <td>1.000000</td>\n",
       "      <td>0.990929</td>\n",
       "    </tr>\n",
       "  </tbody>\n",
       "</table>\n",
       "<p>1310 rows × 2 columns</p>\n",
       "</div>"
      ],
      "text/plain": [
       "      precision  threshold\n",
       "0      0.620482   0.057969\n",
       "1      0.620950   0.125969\n",
       "2      0.621418   0.126084\n",
       "3      0.621132   0.129832\n",
       "4      0.621601   0.129902\n",
       "...         ...        ...\n",
       "1305   0.833333   0.971098\n",
       "1306   0.800000   0.975302\n",
       "1307   0.750000   0.978125\n",
       "1308   1.000000   0.985420\n",
       "1309   1.000000   0.990929\n",
       "\n",
       "[1310 rows x 2 columns]"
      ]
     },
     "execution_count": 19,
     "metadata": {},
     "output_type": "execute_result"
    }
   ],
   "source": [
    "#On récupère les probabilités à l'aide d'un cross_val_predict, a\n",
    "y_pred_probas_0, y_pred_probas_1 = cross_val_predict(LogisticRegression(max_iter=10000),\n",
    "                                                     X_scaled, y,\n",
    "                                                     method = \"predict_proba\").T\n",
    "\n",
    "# Et on en déduit les différentes valeurs de precision, recall et threshold, dans le cas où le joueur est 'choisi'\n",
    "precision, recall, thresholds = precision_recall_curve(y, y_pred_probas_1)\n",
    "df_precision = pd.DataFrame({\"precision\" : precision[:-1], \"threshold\" : thresholds})\n",
    "df_precision"
   ]
  },
  {
   "cell_type": "code",
   "execution_count": 20,
   "metadata": {},
   "outputs": [
    {
     "data": {
      "image/png": "[encoded data removed]",
      "text/plain": [
       "<Figure size 640x480 with 1 Axes>"
      ]
     },
     "metadata": {},
     "output_type": "display_data"
    }
   ],
   "source": [
    "plt.plot(thresholds,precision[:-1],label=\"Precision\")\n",
    "plt.plot(thresholds,recall[:-1],label=\"Recall\")\n",
    "plt.xlabel(\"Thresholds\")\n",
    "plt.ylabel(\"Recall/Precision\")\n",
    "plt.legend()\n",
    "plt.show()"
   ]
  },
  {
   "cell_type": "markdown",
   "metadata": {},
   "source": [
    "On peut remarquerle point \"optimal\", si l'on souhaite que les 2 metrics (recall et precision) soient égales. Dans notre cas, on cherche plutôt la valeur de seuil pour que la précision soit de 0.9. par lecture graphique, ici à environ 0.85"
   ]
  },
  {
   "cell_type": "code",
   "execution_count": 21,
   "metadata": {},
   "outputs": [
    {
     "name": "stdout",
     "output_type": "stream",
     "text": [
      "Le seule minimal pour que la précision soit de 90p est de 0.8471156209655243\n"
     ]
    }
   ],
   "source": [
    "# On cherche donc le seuil minimal pour que la précision soir supérieur à 0.9\n",
    "df_precision[df_precision['precision'] >= 0.9]['threshold']\n",
    "new_threshold = df_precision[df_precision['precision'] >= 0.9]['threshold'].min()\n",
    "\n",
    "print(\"Le seule minimal pour que la précision soit de 90p est de\",new_threshold)"
   ]
  },
  {
   "cell_type": "markdown",
   "metadata": {},
   "source": [
    "On utilisera une fonction de ce type au sein de l'API afin de pouvoir recalculer si le joueur en question vaut un investissement ou non, avec une précision de 90% cette fois"
   ]
  },
  {
   "cell_type": "code",
   "execution_count": 22,
   "metadata": {},
   "outputs": [],
   "source": [
    "\n",
    "def custom_predict(nouveau_joueur_scaled,model, custom_threshold=0.8472):\n",
    "    probs = model.predict_proba(nouveau_joueur_scaled) #On calcula la probabilité du nouveau joueur\n",
    "    proba_1 = probs[:, 1] # Et on s'intéresse au cas où il est intéressant\n",
    "    return (proba_1 > custom_threshold) #Si 1, il est assez interssant pour nous, à un précision de 90%\n",
    "#Si 0, il ne l'est pas."
   ]
  },
  {
   "cell_type": "markdown",
   "metadata": {},
   "source": [
    "# Conclusion"
   ]
  },
  {
   "cell_type": "code",
   "execution_count": 23,
   "metadata": {},
   "outputs": [
    {
     "name": "stdout",
     "output_type": "stream",
     "text": [
      "[[487.  17.]\n",
      " [646. 178.]]\n",
      "Précision= 0.9127154804574159\n"
     ]
    },
    {
     "data": {
      "text/plain": [
       "0.9127154804574159"
      ]
     },
     "execution_count": 23,
     "metadata": {},
     "output_type": "execute_result"
    }
   ],
   "source": [
    "score_classifier_precision_90(X_scaled.values,LogReg_classi,y.values,True)\n",
    "#On obtient bien une précision de 90% avec le scorer initial."
   ]
  },
  {
   "cell_type": "markdown",
   "metadata": {},
   "source": [
    "Il serait intéressant de préciser l'avis du coach afin de savoir s'il souhaite prendre un peu de risque, c'est à dire moins de précision mais à contrario il pourrait espérer recruter plus de pépites (ce qui est moins le cas avec une précision élevé, le recall est du coup plus faible).\n",
    "\n",
    "On peut donc mettre cela en ligne, à l'aide d'une API et d'un Streamlit."
   ]
  },
  {
   "cell_type": "markdown",
   "metadata": {},
   "source": [
    "# Sauvegarde du Scaleur et du Modèle LogReg"
   ]
  },
  {
   "cell_type": "code",
   "execution_count": 87,
   "metadata": {},
   "outputs": [],
   "source": [
    "from pickle import dump\n",
    "rb_scaler = MinMaxScaler()\n",
    "np_scaled = rb_scaler.fit_transform(X)\n",
    "X_scaled = pd.DataFrame(np_scaled, columns=X.columns)\n",
    "X_scaled\n",
    "\n",
    "LogReg = LogisticRegression(max_iter=1000) #On fit sur l'ensemble des données\n",
    "LogReg.fit(X_scaled,y)\n",
    "\n",
    "# save the scaler\n",
    "dump(rb_scaler, open('scaler_opti.pkl', 'wb'))\n",
    "# save the model\n",
    "dump(LogReg, open('model_reglog_opti.pkl', 'wb'))"
   ]
  }
 ],
 "metadata": {
  "kernelspec": {
   "display_name": "interviews",
   "language": "python",
   "name": "python3"
  },
  "language_info": {
   "codemirror_mode": {
    "name": "ipython",
    "version": 3
   },
   "file_extension": ".py",
   "mimetype": "text/x-python",
   "name": "python",
   "nbconvert_exporter": "python",
   "pygments_lexer": "ipython3",
   "version": "3.10.6"
  }
 },
 "nbformat": 4,
 "nbformat_minor": 2
}
